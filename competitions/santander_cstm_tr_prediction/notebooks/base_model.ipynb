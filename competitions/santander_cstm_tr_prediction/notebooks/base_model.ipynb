{
 "cells": [
  {
   "cell_type": "markdown",
   "metadata": {},
   "source": [
    "# base_model"
   ]
  },
  {
   "cell_type": "markdown",
   "metadata": {},
   "source": [
    "### import"
   ]
  },
  {
   "cell_type": "code",
   "execution_count": 19,
   "metadata": {},
   "outputs": [],
   "source": [
    "#import sys\n",
    "#sys.path.append('../data/zip/')\n",
    "\n",
    "import os\n",
    "\n",
    "import pandas as pd\n",
    "import seaborn as sns\n",
    "import numpy as np\n",
    "\n",
    "from sklearn import metrics\n",
    "from sklearn.linear_model import LogisticRegression\n",
    "from sklearn.model_selection import train_test_split"
   ]
  },
  {
   "cell_type": "markdown",
   "metadata": {},
   "source": [
    "### methods and definitions"
   ]
  },
  {
   "cell_type": "code",
   "execution_count": 2,
   "metadata": {},
   "outputs": [],
   "source": [
    "# -\n",
    "\n",
    "def _get_y_prob_pred(y_pred):\n",
    "\n",
    "    return [ pred[1] for pred in y_pred.tolist() ]\n",
    "\n",
    "def _get_y_pred_label(y_prob_pred, th):\n",
    "\n",
    "    return [1 if p > th else 0 for p in y_prob_pred]\n",
    "\n",
    "def _get_data( what='train', state = 'raw' ):\n",
    "\n",
    "    data_path = '../data/%s/%s.csv' % ( state, what )\n",
    "    if not os.path.isfile( data_path ):\n",
    "        raise ValueError\n",
    "    \n",
    "    return pd.read_csv( data_path ).set_index( 'ID_code' )\n",
    "\n",
    "def _submit(target_pred, send=False):\n",
    "    \n",
    "    files = []\n",
    "    for f in os.listdir('../data/submit/'):\n",
    "        if f.endswith(\".csv\"):\n",
    "            files.append(f)\n",
    "    \n",
    "    if not files: \n",
    "        next_id = 1\n",
    "    else:\n",
    "        last_id = max([ int(file.split('_')[1].split('.')[0]) for file in files ])\n",
    "        next_id = last_id + 1\n",
    "    \n",
    "    next_file_name = '../data/submit/submit_%s.csv' % next_id\n",
    "    \n",
    "    test = _get_data(what='test', state='raw')\n",
    "    test['target'] = target_pred\n",
    "    \n",
    "    submit = test.loc[:,['target']]\n",
    "    submit.to_csv(next_file_name)\n",
    "    \n",
    "    if send:\n",
    "        return 'next tbd'\n",
    "    else:\n",
    "        return '%s was saved' % next_file_name.rsplit('/', 1)[1]\n",
    "\n",
    "# -"
   ]
  },
  {
   "cell_type": "markdown",
   "metadata": {},
   "source": [
    "### train / test"
   ]
  },
  {
   "cell_type": "code",
   "execution_count": 6,
   "metadata": {},
   "outputs": [
    {
     "data": {
      "text/plain": [
       "(200000, 201)"
      ]
     },
     "execution_count": 6,
     "metadata": {},
     "output_type": "execute_result"
    }
   ],
   "source": [
    "raw_train = _get_data(what='train', state='raw')\n",
    "raw_train.shape"
   ]
  },
  {
   "cell_type": "code",
   "execution_count": 7,
   "metadata": {},
   "outputs": [
    {
     "data": {
      "text/plain": [
       "count    200000.000000\n",
       "mean          0.100490\n",
       "std           0.300653\n",
       "min           0.000000\n",
       "25%           0.000000\n",
       "50%           0.000000\n",
       "75%           0.000000\n",
       "max           1.000000\n",
       "Name: target, dtype: float64"
      ]
     },
     "execution_count": 7,
     "metadata": {},
     "output_type": "execute_result"
    }
   ],
   "source": [
    "raw_train.target.describe()"
   ]
  },
  {
   "cell_type": "code",
   "execution_count": 8,
   "metadata": {},
   "outputs": [
    {
     "data": {
      "text/plain": [
       "<matplotlib.axes._subplots.AxesSubplot at 0x7fb5bebf0f98>"
      ]
     },
     "execution_count": 8,
     "metadata": {},
     "output_type": "execute_result"
    },
    {
     "data": {
      "image/png": "[encoded data removed]",
      "text/plain": [
       "<Figure size 432x288 with 1 Axes>"
      ]
     },
     "metadata": {},
     "output_type": "display_data"
    }
   ],
   "source": [
    "sns.distplot(raw_train.target)"
   ]
  },
  {
   "cell_type": "code",
   "execution_count": 10,
   "metadata": {},
   "outputs": [
    {
     "data": {
      "text/plain": [
       "0.10049"
      ]
     },
     "execution_count": 10,
     "metadata": {},
     "output_type": "execute_result"
    }
   ],
   "source": [
    "th_01 = np.mean(raw_train.target)\n",
    "th_01"
   ]
  },
  {
   "cell_type": "code",
   "execution_count": 12,
   "metadata": {},
   "outputs": [],
   "source": [
    "train = raw_train.copy()\n",
    "\n",
    "X = train.drop([\"target\"], axis=1)\n",
    "y = train[\"target\"]\n",
    "\n",
    "X_train, X_test, y_train, y_test = train_test_split(X, y, test_size=0.33)"
   ]
  },
  {
   "cell_type": "code",
   "execution_count": null,
   "metadata": {},
   "outputs": [],
   "source": [
    "model = LogisticRegression()\n",
    "model.fit(X_train, y_train)"
   ]
  },
  {
   "cell_type": "markdown",
   "metadata": {},
   "source": [
    "### evaluate"
   ]
  },
  {
   "cell_type": "code",
   "execution_count": null,
   "metadata": {},
   "outputs": [],
   "source": [
    "y_pred = model.predict_proba(X_test)\n",
    "y_prob_pred = _get_y_prob_pred(y_pred)\n",
    "y_pred_label = _get_y_pred_label(y_prob_pred, th=th_01)"
   ]
  },
  {
   "cell_type": "code",
   "execution_count": null,
   "metadata": {},
   "outputs": [],
   "source": [
    "fpr, tpr, thresholds = metrics.roc_curve(np.array(y_test), np.array(y_prob_pred))\n",
    "auc = round(metrics.auc(fpr, tpr), 4)\n",
    "\n",
    "print('auc: %s' % auc)\n",
    "print(pd.Series(y_prob_pred).describe())\n",
    "sns.distplot(y_prob_pred)"
   ]
  },
  {
   "cell_type": "code",
   "execution_count": null,
   "metadata": {},
   "outputs": [],
   "source": [
    "print(pd.Series(y_pred_label).describe())\n",
    "sns.distplot(y_pred_label)"
   ]
  },
  {
   "cell_type": "markdown",
   "metadata": {},
   "source": [
    "### base model"
   ]
  },
  {
   "cell_type": "code",
   "execution_count": null,
   "metadata": {},
   "outputs": [],
   "source": [
    "base_model = LogisticRegression()\n",
    "base_model.fit(X, y)\n",
    "test = _get_data(what='test', state='raw')"
   ]
  },
  {
   "cell_type": "code",
   "execution_count": 15,
   "metadata": {},
   "outputs": [],
   "source": [
    "base_model_pred = base_model.predict_proba(test)\n",
    "base_model_prob_pred = _get_y_prob_pred(base_model_pred)\n",
    "base_model_pred_label = _get_y_pred_label(base_model_prob_pred, th=th_01)"
   ]
  },
  {
   "cell_type": "code",
   "execution_count": 16,
   "metadata": {},
   "outputs": [
    {
     "name": "stdout",
     "output_type": "stream",
     "text": [
      "count    200000.000000\n",
      "mean          0.095182\n",
      "std           0.140086\n",
      "min           0.000027\n",
      "25%           0.014357\n",
      "50%           0.040213\n",
      "75%           0.110753\n",
      "max           0.995837\n",
      "dtype: float64\n"
     ]
    },
    {
     "data": {
      "text/plain": [
       "<matplotlib.axes._subplots.AxesSubplot at 0x7fb5bec4d7f0>"
      ]
     },
     "execution_count": 16,
     "metadata": {},
     "output_type": "execute_result"
    },
    {
     "data": {
      "image/png": "[encoded data removed]",
      "text/plain": [
       "<Figure size 432x288 with 1 Axes>"
      ]
     },
     "metadata": {},
     "output_type": "display_data"
    }
   ],
   "source": [
    "print(pd.Series(base_model_prob_pred).describe())\n",
    "sns.distplot(base_model_prob_pred)"
   ]
  },
  {
   "cell_type": "code",
   "execution_count": 17,
   "metadata": {},
   "outputs": [
    {
     "name": "stdout",
     "output_type": "stream",
     "text": [
      "count    200000.000000\n",
      "mean          0.271450\n",
      "std           0.444709\n",
      "min           0.000000\n",
      "25%           0.000000\n",
      "50%           0.000000\n",
      "75%           1.000000\n",
      "max           1.000000\n",
      "dtype: float64\n"
     ]
    },
    {
     "data": {
      "text/plain": [
       "<matplotlib.axes._subplots.AxesSubplot at 0x7fb5beb74358>"
      ]
     },
     "execution_count": 17,
     "metadata": {},
     "output_type": "execute_result"
    },
    {
     "data": {
      "image/png": "[encoded data removed]",
      "text/plain": [
       "<Figure size 432x288 with 1 Axes>"
      ]
     },
     "metadata": {},
     "output_type": "display_data"
    }
   ],
   "source": [
    "print(pd.Series(base_model_pred_label).describe())\n",
    "sns.distplot(base_model_pred_label)"
   ]
  },
  {
   "cell_type": "markdown",
   "metadata": {},
   "source": [
    "### submit"
   ]
  },
  {
   "cell_type": "code",
   "execution_count": 20,
   "metadata": {},
   "outputs": [
    {
     "data": {
      "text/plain": [
       "'next tbd'"
      ]
     },
     "execution_count": 20,
     "metadata": {},
     "output_type": "execute_result"
    }
   ],
   "source": [
    "_submit(base_model_pred_label)"
   ]
  }
 ],
 "metadata": {
  "kernelspec": {
   "display_name": "Python 3",
   "language": "python",
   "name": "python3"
  },
  "language_info": {
   "codemirror_mode": {
    "name": "ipython",
    "version": 3
   },
   "file_extension": ".py",
   "mimetype": "text/x-python",
   "name": "python",
   "nbconvert_exporter": "python",
   "pygments_lexer": "ipython3",
   "version": "3.5.2"
  }
 },
 "nbformat": 4,
 "nbformat_minor": 2
}
