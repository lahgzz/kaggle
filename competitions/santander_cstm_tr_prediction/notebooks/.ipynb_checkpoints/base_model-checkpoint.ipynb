{
 "cells": [
  {
   "cell_type": "code",
   "execution_count": 19,
   "metadata": {},
   "outputs": [],
   "source": [
    "import sys\n",
    "sys.path.append('../data/zip/')\n",
    "\n",
    "import pandas as pd\n",
    "import seaborn as sns\n",
    "import numpy as np\n",
    "\n",
    "from sklearn import metrics\n",
    "from sklearn.linear_model import LogisticRegression\n",
    "from sklearn.model_selection import train_test_split"
   ]
  },
  {
   "cell_type": "code",
   "execution_count": 8,
   "metadata": {},
   "outputs": [
    {
     "data": {
      "text/html": [
       "<div>\n",
       "<style scoped>\n",
       "    .dataframe tbody tr th:only-of-type {\n",
       "        vertical-align: middle;\n",
       "    }\n",
       "\n",
       "    .dataframe tbody tr th {\n",
       "        vertical-align: top;\n",
       "    }\n",
       "\n",
       "    .dataframe thead th {\n",
       "        text-align: right;\n",
       "    }\n",
       "</style>\n",
       "<table border=\"1\" class=\"dataframe\">\n",
       "  <thead>\n",
       "    <tr style=\"text-align: right;\">\n",
       "      <th></th>\n",
       "      <th>target</th>\n",
       "      <th>var_0</th>\n",
       "      <th>var_1</th>\n",
       "      <th>var_2</th>\n",
       "      <th>var_3</th>\n",
       "      <th>var_4</th>\n",
       "      <th>var_5</th>\n",
       "      <th>var_6</th>\n",
       "      <th>var_7</th>\n",
       "      <th>var_8</th>\n",
       "      <th>...</th>\n",
       "      <th>var_190</th>\n",
       "      <th>var_191</th>\n",
       "      <th>var_192</th>\n",
       "      <th>var_193</th>\n",
       "      <th>var_194</th>\n",
       "      <th>var_195</th>\n",
       "      <th>var_196</th>\n",
       "      <th>var_197</th>\n",
       "      <th>var_198</th>\n",
       "      <th>var_199</th>\n",
       "    </tr>\n",
       "    <tr>\n",
       "      <th>ID_code</th>\n",
       "      <th></th>\n",
       "      <th></th>\n",
       "      <th></th>\n",
       "      <th></th>\n",
       "      <th></th>\n",
       "      <th></th>\n",
       "      <th></th>\n",
       "      <th></th>\n",
       "      <th></th>\n",
       "      <th></th>\n",
       "      <th></th>\n",
       "      <th></th>\n",
       "      <th></th>\n",
       "      <th></th>\n",
       "      <th></th>\n",
       "      <th></th>\n",
       "      <th></th>\n",
       "      <th></th>\n",
       "      <th></th>\n",
       "      <th></th>\n",
       "      <th></th>\n",
       "    </tr>\n",
       "  </thead>\n",
       "  <tbody>\n",
       "    <tr>\n",
       "      <th>train_0</th>\n",
       "      <td>0</td>\n",
       "      <td>8.9255</td>\n",
       "      <td>-6.7863</td>\n",
       "      <td>11.9081</td>\n",
       "      <td>5.0930</td>\n",
       "      <td>11.4607</td>\n",
       "      <td>-9.2834</td>\n",
       "      <td>5.1187</td>\n",
       "      <td>18.6266</td>\n",
       "      <td>-4.9200</td>\n",
       "      <td>...</td>\n",
       "      <td>4.4354</td>\n",
       "      <td>3.9642</td>\n",
       "      <td>3.1364</td>\n",
       "      <td>1.6910</td>\n",
       "      <td>18.5227</td>\n",
       "      <td>-2.3978</td>\n",
       "      <td>7.8784</td>\n",
       "      <td>8.5635</td>\n",
       "      <td>12.7803</td>\n",
       "      <td>-1.0914</td>\n",
       "    </tr>\n",
       "    <tr>\n",
       "      <th>train_1</th>\n",
       "      <td>0</td>\n",
       "      <td>11.5006</td>\n",
       "      <td>-4.1473</td>\n",
       "      <td>13.8588</td>\n",
       "      <td>5.3890</td>\n",
       "      <td>12.3622</td>\n",
       "      <td>7.0433</td>\n",
       "      <td>5.6208</td>\n",
       "      <td>16.5338</td>\n",
       "      <td>3.1468</td>\n",
       "      <td>...</td>\n",
       "      <td>7.6421</td>\n",
       "      <td>7.7214</td>\n",
       "      <td>2.5837</td>\n",
       "      <td>10.9516</td>\n",
       "      <td>15.4305</td>\n",
       "      <td>2.0339</td>\n",
       "      <td>8.1267</td>\n",
       "      <td>8.7889</td>\n",
       "      <td>18.3560</td>\n",
       "      <td>1.9518</td>\n",
       "    </tr>\n",
       "    <tr>\n",
       "      <th>train_2</th>\n",
       "      <td>0</td>\n",
       "      <td>8.6093</td>\n",
       "      <td>-2.7457</td>\n",
       "      <td>12.0805</td>\n",
       "      <td>7.8928</td>\n",
       "      <td>10.5825</td>\n",
       "      <td>-9.0837</td>\n",
       "      <td>6.9427</td>\n",
       "      <td>14.6155</td>\n",
       "      <td>-4.9193</td>\n",
       "      <td>...</td>\n",
       "      <td>2.9057</td>\n",
       "      <td>9.7905</td>\n",
       "      <td>1.6704</td>\n",
       "      <td>1.6858</td>\n",
       "      <td>21.6042</td>\n",
       "      <td>3.1417</td>\n",
       "      <td>-6.5213</td>\n",
       "      <td>8.2675</td>\n",
       "      <td>14.7222</td>\n",
       "      <td>0.3965</td>\n",
       "    </tr>\n",
       "    <tr>\n",
       "      <th>train_3</th>\n",
       "      <td>0</td>\n",
       "      <td>11.0604</td>\n",
       "      <td>-2.1518</td>\n",
       "      <td>8.9522</td>\n",
       "      <td>7.1957</td>\n",
       "      <td>12.5846</td>\n",
       "      <td>-1.8361</td>\n",
       "      <td>5.8428</td>\n",
       "      <td>14.9250</td>\n",
       "      <td>-5.8609</td>\n",
       "      <td>...</td>\n",
       "      <td>4.4666</td>\n",
       "      <td>4.7433</td>\n",
       "      <td>0.7178</td>\n",
       "      <td>1.4214</td>\n",
       "      <td>23.0347</td>\n",
       "      <td>-1.2706</td>\n",
       "      <td>-2.9275</td>\n",
       "      <td>10.2922</td>\n",
       "      <td>17.9697</td>\n",
       "      <td>-8.9996</td>\n",
       "    </tr>\n",
       "    <tr>\n",
       "      <th>train_4</th>\n",
       "      <td>0</td>\n",
       "      <td>9.8369</td>\n",
       "      <td>-1.4834</td>\n",
       "      <td>12.8746</td>\n",
       "      <td>6.6375</td>\n",
       "      <td>12.2772</td>\n",
       "      <td>2.4486</td>\n",
       "      <td>5.9405</td>\n",
       "      <td>19.2514</td>\n",
       "      <td>6.2654</td>\n",
       "      <td>...</td>\n",
       "      <td>-1.4905</td>\n",
       "      <td>9.5214</td>\n",
       "      <td>-0.1508</td>\n",
       "      <td>9.1942</td>\n",
       "      <td>13.2876</td>\n",
       "      <td>-1.5121</td>\n",
       "      <td>3.9267</td>\n",
       "      <td>9.5031</td>\n",
       "      <td>17.9974</td>\n",
       "      <td>-8.8104</td>\n",
       "    </tr>\n",
       "  </tbody>\n",
       "</table>\n",
       "<p>5 rows × 201 columns</p>\n",
       "</div>"
      ],
      "text/plain": [
       "         target    var_0   var_1    var_2   var_3    var_4   var_5   var_6  \\\n",
       "ID_code                                                                      \n",
       "train_0       0   8.9255 -6.7863  11.9081  5.0930  11.4607 -9.2834  5.1187   \n",
       "train_1       0  11.5006 -4.1473  13.8588  5.3890  12.3622  7.0433  5.6208   \n",
       "train_2       0   8.6093 -2.7457  12.0805  7.8928  10.5825 -9.0837  6.9427   \n",
       "train_3       0  11.0604 -2.1518   8.9522  7.1957  12.5846 -1.8361  5.8428   \n",
       "train_4       0   9.8369 -1.4834  12.8746  6.6375  12.2772  2.4486  5.9405   \n",
       "\n",
       "           var_7   var_8   ...     var_190  var_191  var_192  var_193  \\\n",
       "ID_code                    ...                                          \n",
       "train_0  18.6266 -4.9200   ...      4.4354   3.9642   3.1364   1.6910   \n",
       "train_1  16.5338  3.1468   ...      7.6421   7.7214   2.5837  10.9516   \n",
       "train_2  14.6155 -4.9193   ...      2.9057   9.7905   1.6704   1.6858   \n",
       "train_3  14.9250 -5.8609   ...      4.4666   4.7433   0.7178   1.4214   \n",
       "train_4  19.2514  6.2654   ...     -1.4905   9.5214  -0.1508   9.1942   \n",
       "\n",
       "         var_194  var_195  var_196  var_197  var_198  var_199  \n",
       "ID_code                                                        \n",
       "train_0  18.5227  -2.3978   7.8784   8.5635  12.7803  -1.0914  \n",
       "train_1  15.4305   2.0339   8.1267   8.7889  18.3560   1.9518  \n",
       "train_2  21.6042   3.1417  -6.5213   8.2675  14.7222   0.3965  \n",
       "train_3  23.0347  -1.2706  -2.9275  10.2922  17.9697  -8.9996  \n",
       "train_4  13.2876  -1.5121   3.9267   9.5031  17.9974  -8.8104  \n",
       "\n",
       "[5 rows x 201 columns]"
      ]
     },
     "execution_count": 8,
     "metadata": {},
     "output_type": "execute_result"
    }
   ],
   "source": [
    "train = pd.read_csv('../data/raw/train.csv').set_index('ID_code')\n",
    "train.head()"
   ]
  },
  {
   "cell_type": "code",
   "execution_count": 40,
   "metadata": {},
   "outputs": [
    {
     "data": {
      "text/plain": [
       "0.10049"
      ]
     },
     "execution_count": 40,
     "metadata": {},
     "output_type": "execute_result"
    }
   ],
   "source": [
    "train.loc[train.target==1].shape[0] / train.shape[0]"
   ]
  },
  {
   "cell_type": "code",
   "execution_count": 26,
   "metadata": {},
   "outputs": [],
   "source": [
    "X = train.drop([\"target\"], axis=1)\n",
    "y = train[\"target\"]\n",
    "\n",
    "X_train, X_test, y_train, y_test = train_test_split(X, y, test_size=0.33)"
   ]
  },
  {
   "cell_type": "code",
   "execution_count": 27,
   "metadata": {},
   "outputs": [
    {
     "data": {
      "text/html": [
       "<div>\n",
       "<style scoped>\n",
       "    .dataframe tbody tr th:only-of-type {\n",
       "        vertical-align: middle;\n",
       "    }\n",
       "\n",
       "    .dataframe tbody tr th {\n",
       "        vertical-align: top;\n",
       "    }\n",
       "\n",
       "    .dataframe thead th {\n",
       "        text-align: right;\n",
       "    }\n",
       "</style>\n",
       "<table border=\"1\" class=\"dataframe\">\n",
       "  <thead>\n",
       "    <tr style=\"text-align: right;\">\n",
       "      <th></th>\n",
       "      <th>var_0</th>\n",
       "      <th>var_1</th>\n",
       "      <th>var_2</th>\n",
       "      <th>var_3</th>\n",
       "      <th>var_4</th>\n",
       "      <th>var_5</th>\n",
       "      <th>var_6</th>\n",
       "      <th>var_7</th>\n",
       "      <th>var_8</th>\n",
       "      <th>var_9</th>\n",
       "      <th>...</th>\n",
       "      <th>var_190</th>\n",
       "      <th>var_191</th>\n",
       "      <th>var_192</th>\n",
       "      <th>var_193</th>\n",
       "      <th>var_194</th>\n",
       "      <th>var_195</th>\n",
       "      <th>var_196</th>\n",
       "      <th>var_197</th>\n",
       "      <th>var_198</th>\n",
       "      <th>var_199</th>\n",
       "    </tr>\n",
       "    <tr>\n",
       "      <th>ID_code</th>\n",
       "      <th></th>\n",
       "      <th></th>\n",
       "      <th></th>\n",
       "      <th></th>\n",
       "      <th></th>\n",
       "      <th></th>\n",
       "      <th></th>\n",
       "      <th></th>\n",
       "      <th></th>\n",
       "      <th></th>\n",
       "      <th></th>\n",
       "      <th></th>\n",
       "      <th></th>\n",
       "      <th></th>\n",
       "      <th></th>\n",
       "      <th></th>\n",
       "      <th></th>\n",
       "      <th></th>\n",
       "      <th></th>\n",
       "      <th></th>\n",
       "      <th></th>\n",
       "    </tr>\n",
       "  </thead>\n",
       "  <tbody>\n",
       "    <tr>\n",
       "      <th>train_183460</th>\n",
       "      <td>11.6407</td>\n",
       "      <td>-0.7018</td>\n",
       "      <td>7.3128</td>\n",
       "      <td>4.4795</td>\n",
       "      <td>9.6781</td>\n",
       "      <td>2.0811</td>\n",
       "      <td>4.6942</td>\n",
       "      <td>18.0631</td>\n",
       "      <td>-3.5885</td>\n",
       "      <td>9.5708</td>\n",
       "      <td>...</td>\n",
       "      <td>2.2803</td>\n",
       "      <td>5.1386</td>\n",
       "      <td>1.5616</td>\n",
       "      <td>-1.0030</td>\n",
       "      <td>11.5228</td>\n",
       "      <td>-2.2604</td>\n",
       "      <td>4.8642</td>\n",
       "      <td>9.7578</td>\n",
       "      <td>11.5936</td>\n",
       "      <td>2.0605</td>\n",
       "    </tr>\n",
       "    <tr>\n",
       "      <th>train_124777</th>\n",
       "      <td>10.5209</td>\n",
       "      <td>-5.6410</td>\n",
       "      <td>9.1457</td>\n",
       "      <td>9.4919</td>\n",
       "      <td>12.6939</td>\n",
       "      <td>-0.3704</td>\n",
       "      <td>5.8546</td>\n",
       "      <td>17.7852</td>\n",
       "      <td>-4.0989</td>\n",
       "      <td>8.0659</td>\n",
       "      <td>...</td>\n",
       "      <td>10.1195</td>\n",
       "      <td>4.1227</td>\n",
       "      <td>4.1376</td>\n",
       "      <td>0.6267</td>\n",
       "      <td>14.2417</td>\n",
       "      <td>0.1416</td>\n",
       "      <td>3.8966</td>\n",
       "      <td>9.4118</td>\n",
       "      <td>13.1275</td>\n",
       "      <td>-10.6307</td>\n",
       "    </tr>\n",
       "    <tr>\n",
       "      <th>train_93449</th>\n",
       "      <td>9.6030</td>\n",
       "      <td>-7.0494</td>\n",
       "      <td>9.2356</td>\n",
       "      <td>7.4564</td>\n",
       "      <td>9.3279</td>\n",
       "      <td>-1.6367</td>\n",
       "      <td>5.1320</td>\n",
       "      <td>13.8454</td>\n",
       "      <td>-4.6863</td>\n",
       "      <td>8.5979</td>\n",
       "      <td>...</td>\n",
       "      <td>-4.0529</td>\n",
       "      <td>8.6337</td>\n",
       "      <td>1.9577</td>\n",
       "      <td>-0.8421</td>\n",
       "      <td>15.0048</td>\n",
       "      <td>-1.1143</td>\n",
       "      <td>-0.4315</td>\n",
       "      <td>8.8330</td>\n",
       "      <td>15.5012</td>\n",
       "      <td>-10.4425</td>\n",
       "    </tr>\n",
       "    <tr>\n",
       "      <th>train_63544</th>\n",
       "      <td>8.7837</td>\n",
       "      <td>0.4454</td>\n",
       "      <td>12.8489</td>\n",
       "      <td>9.1743</td>\n",
       "      <td>12.5354</td>\n",
       "      <td>-4.1103</td>\n",
       "      <td>4.1953</td>\n",
       "      <td>24.6561</td>\n",
       "      <td>1.0620</td>\n",
       "      <td>5.6039</td>\n",
       "      <td>...</td>\n",
       "      <td>10.9488</td>\n",
       "      <td>4.4243</td>\n",
       "      <td>1.9747</td>\n",
       "      <td>6.4701</td>\n",
       "      <td>16.4118</td>\n",
       "      <td>-2.3213</td>\n",
       "      <td>3.9721</td>\n",
       "      <td>8.9907</td>\n",
       "      <td>17.2547</td>\n",
       "      <td>-4.4040</td>\n",
       "    </tr>\n",
       "    <tr>\n",
       "      <th>train_158994</th>\n",
       "      <td>8.9340</td>\n",
       "      <td>-2.1401</td>\n",
       "      <td>10.3450</td>\n",
       "      <td>6.2656</td>\n",
       "      <td>12.4744</td>\n",
       "      <td>-13.1989</td>\n",
       "      <td>6.5487</td>\n",
       "      <td>20.8058</td>\n",
       "      <td>0.2393</td>\n",
       "      <td>5.7380</td>\n",
       "      <td>...</td>\n",
       "      <td>7.4650</td>\n",
       "      <td>5.7299</td>\n",
       "      <td>2.2114</td>\n",
       "      <td>8.1184</td>\n",
       "      <td>11.2150</td>\n",
       "      <td>-2.2957</td>\n",
       "      <td>-6.2847</td>\n",
       "      <td>9.1108</td>\n",
       "      <td>16.1644</td>\n",
       "      <td>-2.7779</td>\n",
       "    </tr>\n",
       "  </tbody>\n",
       "</table>\n",
       "<p>5 rows × 200 columns</p>\n",
       "</div>"
      ],
      "text/plain": [
       "                var_0   var_1    var_2   var_3    var_4    var_5   var_6  \\\n",
       "ID_code                                                                    \n",
       "train_183460  11.6407 -0.7018   7.3128  4.4795   9.6781   2.0811  4.6942   \n",
       "train_124777  10.5209 -5.6410   9.1457  9.4919  12.6939  -0.3704  5.8546   \n",
       "train_93449    9.6030 -7.0494   9.2356  7.4564   9.3279  -1.6367  5.1320   \n",
       "train_63544    8.7837  0.4454  12.8489  9.1743  12.5354  -4.1103  4.1953   \n",
       "train_158994   8.9340 -2.1401  10.3450  6.2656  12.4744 -13.1989  6.5487   \n",
       "\n",
       "                var_7   var_8   var_9   ...     var_190  var_191  var_192  \\\n",
       "ID_code                                 ...                                 \n",
       "train_183460  18.0631 -3.5885  9.5708   ...      2.2803   5.1386   1.5616   \n",
       "train_124777  17.7852 -4.0989  8.0659   ...     10.1195   4.1227   4.1376   \n",
       "train_93449   13.8454 -4.6863  8.5979   ...     -4.0529   8.6337   1.9577   \n",
       "train_63544   24.6561  1.0620  5.6039   ...     10.9488   4.4243   1.9747   \n",
       "train_158994  20.8058  0.2393  5.7380   ...      7.4650   5.7299   2.2114   \n",
       "\n",
       "              var_193  var_194  var_195  var_196  var_197  var_198  var_199  \n",
       "ID_code                                                                      \n",
       "train_183460  -1.0030  11.5228  -2.2604   4.8642   9.7578  11.5936   2.0605  \n",
       "train_124777   0.6267  14.2417   0.1416   3.8966   9.4118  13.1275 -10.6307  \n",
       "train_93449   -0.8421  15.0048  -1.1143  -0.4315   8.8330  15.5012 -10.4425  \n",
       "train_63544    6.4701  16.4118  -2.3213   3.9721   8.9907  17.2547  -4.4040  \n",
       "train_158994   8.1184  11.2150  -2.2957  -6.2847   9.1108  16.1644  -2.7779  \n",
       "\n",
       "[5 rows x 200 columns]"
      ]
     },
     "execution_count": 27,
     "metadata": {},
     "output_type": "execute_result"
    }
   ],
   "source": [
    "X_train.head()"
   ]
  },
  {
   "cell_type": "code",
   "execution_count": 28,
   "metadata": {},
   "outputs": [
    {
     "name": "stderr",
     "output_type": "stream",
     "text": [
      "/usr/local/lib/python3.5/dist-packages/sklearn/linear_model/logistic.py:433: FutureWarning: Default solver will be changed to 'lbfgs' in 0.22. Specify a solver to silence this warning.\n",
      "  FutureWarning)\n"
     ]
    }
   ],
   "source": [
    "model = LogisticRegression()\n",
    "model.fit(X_train, y_train)\n",
    "\n",
    "pred = model.predict_proba(X_test)\n",
    "y_pred = []\n",
    "for p in pred.tolist():\n",
    "    y_pred.append(p[1])"
   ]
  },
  {
   "cell_type": "code",
   "execution_count": 29,
   "metadata": {},
   "outputs": [
    {
     "data": {
      "text/plain": [
       "<matplotlib.axes._subplots.AxesSubplot at 0x7f68465aaac8>"
      ]
     },
     "execution_count": 29,
     "metadata": {},
     "output_type": "execute_result"
    },
    {
     "data": {
      "image/png": "[encoded data removed]",
      "text/plain": [
       "<Figure size 432x288 with 1 Axes>"
      ]
     },
     "metadata": {},
     "output_type": "display_data"
    }
   ],
   "source": [
    "sns.distplot(y_pred)"
   ]
  },
  {
   "cell_type": "code",
   "execution_count": 45,
   "metadata": {},
   "outputs": [],
   "source": [
    "y_pred_01 = [1 if y_p > 0.10049 else 0 for y_p in y_pred]"
   ]
  },
  {
   "cell_type": "code",
   "execution_count": 30,
   "metadata": {},
   "outputs": [
    {
     "data": {
      "text/plain": [
       "0.858093454715362"
      ]
     },
     "execution_count": 30,
     "metadata": {},
     "output_type": "execute_result"
    }
   ],
   "source": [
    "fpr, tpr, thresholds = metrics.roc_curve(np.array(y_test), np.array(y_pred))\n",
    "metrics.auc(fpr, tpr)"
   ]
  },
  {
   "cell_type": "code",
   "execution_count": null,
   "metadata": {},
   "outputs": [],
   "source": [
    "base_model = LogisticRegression()\n",
    "base_model.fit(X, y)\n",
    "test = pd.read_csv('../data/raw/test.csv').set_index('ID_code')\n",
    "base_model_pred = base_model.predict_proba(test)\n"
   ]
  },
  {
   "cell_type": "code",
   "execution_count": 53,
   "metadata": {},
   "outputs": [
    {
     "data": {
      "text/plain": [
       "array([0.81487845, 0.18512155])"
      ]
     },
     "execution_count": 53,
     "metadata": {},
     "output_type": "execute_result"
    }
   ],
   "source": [
    "base_model_pred[0]"
   ]
  },
  {
   "cell_type": "code",
   "execution_count": 64,
   "metadata": {},
   "outputs": [
    {
     "data": {
      "text/plain": [
       "0.27145"
      ]
     },
     "execution_count": 64,
     "metadata": {},
     "output_type": "execute_result"
    }
   ],
   "source": []
  },
  {
   "cell_type": "code",
   "execution_count": 86,
   "metadata": {},
   "outputs": [
    {
     "data": {
      "text/plain": [
       "0.27145"
      ]
     },
     "execution_count": 86,
     "metadata": {},
     "output_type": "execute_result"
    }
   ],
   "source": [
    "base_model_y_pred = []\n",
    "for p in base_model_pred.tolist():\n",
    "    base_model_y_pred.append(p[1])\n",
    "\n",
    "base_model_pred_01 = [1 if y_p >= 0.10049 else 0 for y_p in base_model_y_pred]\n",
    "\n",
    "test['target'] = base_model_pred_01\n",
    "submit_02 = test.loc[:,['target']]\n",
    "\n",
    "submit_02.loc[submit_02.target==1].shape[0] / submit_02.shape[0]"
   ]
  },
  {
   "cell_type": "code",
   "execution_count": 72,
   "metadata": {},
   "outputs": [
    {
     "data": {
      "text/plain": [
       "<matplotlib.axes._subplots.AxesSubplot at 0x7f681c267630>"
      ]
     },
     "execution_count": 72,
     "metadata": {},
     "output_type": "execute_result"
    },
    {
     "data": {
      "image/png": "[encoded data removed]",
      "text/plain": [
       "<Figure size 432x288 with 1 Axes>"
      ]
     },
     "metadata": {},
     "output_type": "display_data"
    }
   ],
   "source": [
    "sns.distplot(base_model_pred_01)"
   ]
  },
  {
   "cell_type": "code",
   "execution_count": 87,
   "metadata": {},
   "outputs": [],
   "source": [
    "submit_02.to_csv('../data/submit/submit_02.csv')"
   ]
  }
 ],
 "metadata": {
  "kernelspec": {
   "display_name": "Python 3",
   "language": "python",
   "name": "python3"
  },
  "language_info": {
   "codemirror_mode": {
    "name": "ipython",
    "version": 3
   },
   "file_extension": ".py",
   "mimetype": "text/x-python",
   "name": "python",
   "nbconvert_exporter": "python",
   "pygments_lexer": "ipython3",
   "version": "3.5.2"
  }
 },
 "nbformat": 4,
 "nbformat_minor": 2
}
