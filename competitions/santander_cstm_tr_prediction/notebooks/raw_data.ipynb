{
 "cells": [
  {
   "cell_type": "code",
   "execution_count": 18,
   "metadata": {},
   "outputs": [
    {
     "name": "stderr",
     "output_type": "stream",
     "text": [
      "/usr/lib/python3.5/importlib/_bootstrap.py:222: RuntimeWarning: numpy.dtype size changed, may indicate binary incompatibility. Expected 96, got 88\n",
      "  return f(*args, **kwds)\n"
     ]
    }
   ],
   "source": [
    "import sys\n",
    "sys.path.append('../data/zip/')\n",
    "\n",
    "import zipfile\n",
    "import pandas as pd"
   ]
  },
  {
   "cell_type": "code",
   "execution_count": 12,
   "metadata": {},
   "outputs": [],
   "source": [
    "train_file_path = '../data/zip/train.csv.zip'\n",
    "train_file = zipfile.ZipFile(train_file_path, 'r')\n",
    "train_file.extractall('../data/raw')\n",
    "\n",
    "test_file_path = '../data/zip/test.csv.zip'\n",
    "test_file = zipfile.ZipFile(test_file_path, 'r')\n",
    "test_file.extractall('../data/raw')\n",
    "\n",
    "example_file_path = '../data/zip/sample_submission.csv.zip'\n",
    "example_file = zipfile.ZipFile(example_file_path, 'r')\n",
    "example_file.extractall('../data/raw')"
   ]
  },
  {
   "cell_type": "code",
   "execution_count": 28,
   "metadata": {},
   "outputs": [],
   "source": [
    "train = pd.read_csv('../data/raw/train.csv')\n",
    "test = pd.read_csv('../data/raw/test.csv')"
   ]
  }
 ],
 "metadata": {
  "kernelspec": {
   "display_name": "Python 3",
   "language": "python",
   "name": "python3"
  },
  "language_info": {
   "codemirror_mode": {
    "name": "ipython",
    "version": 3
   },
   "file_extension": ".py",
   "mimetype": "text/x-python",
   "name": "python",
   "nbconvert_exporter": "python",
   "pygments_lexer": "ipython3",
   "version": "3.5.2"
  }
 },
 "nbformat": 4,
 "nbformat_minor": 2
}
